{
  "cells": [
    {
      "cell_type": "code",
      "source": [
        "from psutil import virtual_memory\n",
        "ram_gb = virtual_memory().total / 1e9\n",
        "print('Your runtime has {:.1f} gigabytes of available RAM\\n'.format(ram_gb))\n",
        "\n",
        "if ram_gb < 20:\n",
        "  print('Not using a high-RAM runtime')\n",
        "else:\n",
        "  print('You are using a high-RAM runtime!')"
      ],
      "metadata": {
        "colab": {
          "base_uri": "https://localhost:8080/"
        },
        "id": "-VYUHS7IvPGj",
        "outputId": "004aeced-d45d-438a-ce2f-6ff1014e7048"
      },
      "id": "-VYUHS7IvPGj",
      "execution_count": 1,
      "outputs": [
        {
          "output_type": "stream",
          "name": "stdout",
          "text": [
            "Your runtime has 54.8 gigabytes of available RAM\n",
            "\n",
            "You are using a high-RAM runtime!\n"
          ]
        }
      ]
    },
    {
      "cell_type": "code",
      "execution_count": 5,
      "id": "2b1fb012-0501-45dc-ba2e-9744e64257dd",
      "metadata": {
        "id": "2b1fb012-0501-45dc-ba2e-9744e64257dd"
      },
      "outputs": [],
      "source": [
        "import pandas as pd\n",
        "import numpy as np\n",
        "import os\n",
        "import glob\n",
        "import json"
      ]
    },
    {
      "cell_type": "code",
      "source": [
        "from google.colab import drive\n",
        "drive.mount('./gdrive')"
      ],
      "metadata": {
        "colab": {
          "base_uri": "https://localhost:8080/"
        },
        "id": "WZWCttVnvpYp",
        "outputId": "21f9e3d9-aa69-42bb-cc47-5f59909b22a8"
      },
      "id": "WZWCttVnvpYp",
      "execution_count": 3,
      "outputs": [
        {
          "output_type": "stream",
          "name": "stdout",
          "text": [
            "Mounted at ./gdrive\n"
          ]
        }
      ]
    },
    {
      "cell_type": "code",
      "execution_count": 8,
      "id": "f3d5d0a5-cdcc-40cc-9e81-4d2b37715630",
      "metadata": {
        "id": "f3d5d0a5-cdcc-40cc-9e81-4d2b37715630"
      },
      "outputs": [],
      "source": [
        "file_path = '/content/gdrive/MyDrive/03 SKKU_IGM/yelp_dataset'\n",
        "\n",
        "with open(os.path.join(file_path, 'yelp_academic_dataset_user.json'), 'r', encoding = 'utf-8') as f:\n",
        "    data = [json.loads(line) for line in f]"
      ]
    },
    {
      "cell_type": "code",
      "execution_count": null,
      "id": "483ec344-85f4-47da-bd90-a3a92f0cf532",
      "metadata": {
        "id": "483ec344-85f4-47da-bd90-a3a92f0cf532"
      },
      "outputs": [],
      "source": [
        "df = pd.DataFrame(data)"
      ]
    },
    {
      "cell_type": "code",
      "source": [
        "df.head()"
      ],
      "metadata": {
        "id": "bD-9OEhQx1q3"
      },
      "id": "bD-9OEhQx1q3",
      "execution_count": null,
      "outputs": []
    }
  ],
  "metadata": {
    "kernelspec": {
      "display_name": "Python 3",
      "name": "python3"
    },
    "language_info": {
      "codemirror_mode": {
        "name": "ipython",
        "version": 3
      },
      "file_extension": ".py",
      "mimetype": "text/x-python",
      "name": "python",
      "nbconvert_exporter": "python",
      "pygments_lexer": "ipython3",
      "version": "3.12.2"
    },
    "colab": {
      "provenance": [],
      "machine_shape": "hm"
    }
  },
  "nbformat": 4,
  "nbformat_minor": 5
}