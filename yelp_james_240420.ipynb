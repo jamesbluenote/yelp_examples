{
 "cells": [
  {
   "cell_type": "code",
   "execution_count": 1,
   "id": "2b1fb012-0501-45dc-ba2e-9744e64257dd",
   "metadata": {},
   "outputs": [],
   "source": [
    "import pandas as pd\n",
    "import numpy as np\n",
    "import os\n",
    "import glob\n",
    "import json"
   ]
  },
  {
   "cell_type": "code",
   "execution_count": 5,
   "id": "9f905e16-fd56-41c5-b618-94dd6f503746",
   "metadata": {},
   "outputs": [
    {
     "name": "stdout",
     "output_type": "stream",
     "text": [
      "tar: ./dataset: Not found in archive\n",
      "tar: Error exit delayed from previous errors.\n"
     ]
    }
   ],
   "source": [
    "# !tar -xf yelp_dataset.tar"
   ]
  },
  {
   "cell_type": "code",
   "execution_count": 2,
   "id": "c892f56f-a1d3-4d32-a09b-1539f98ba194",
   "metadata": {},
   "outputs": [
    {
     "data": {
      "text/plain": [
       "'/Users/james/Documents/GitHub/yelp_examples'"
      ]
     },
     "execution_count": 2,
     "metadata": {},
     "output_type": "execute_result"
    }
   ],
   "source": [
    "# MacBook\n",
    "os.getcwd()"
   ]
  },
  {
   "cell_type": "code",
   "execution_count": 3,
   "id": "ed8503cd-7f76-4d88-94dd-5f90e2265f99",
   "metadata": {},
   "outputs": [
    {
     "name": "stdout",
     "output_type": "stream",
     "text": [
      "total 2944\n",
      "drwxr-xr-x  25 james  staff     800  4 21 19:23 \u001b[34m.\u001b[m\u001b[m\n",
      "drwxr-xr-x@ 17 james  staff     544  4 17 20:59 \u001b[34m..\u001b[m\u001b[m\n",
      "-rw-r--r--@  1 james  staff    6148  4 21 19:12 .DS_Store\n",
      "drwxr-xr-x  15 james  staff     480  4 21 19:12 \u001b[34m.git\u001b[m\u001b[m\n",
      "-rw-r--r--   1 james  staff     175  4 17 20:40 .gitignore\n",
      "drwxr-xr-x   6 james  staff     192  4 21 19:23 \u001b[34m.ipynb_checkpoints\u001b[m\u001b[m\n",
      "-rw-r--r--   1 james  staff     162  4 17 20:40 .travis.yml\n",
      "-rw-r--r--   1 james  staff   80358  4 17 20:40 Dataset_User_Agreement.pdf\n",
      "-rw-r--r--   1 james  staff  938400  4 17 20:40 GM_Projec_Proposal_김민수_v1.pptx\n",
      "-rw-r--r--   1 james  staff  309247  4 17 20:40 KakaoTalk_Image_2024-04-13-22-10-27.jpeg\n",
      "-rw-r--r--   1 james  staff     563  4 17 20:40 LICENSE.txt\n",
      "-rw-r--r--   1 james  staff    3057  4 17 20:40 README.md\n",
      "drwxr-xr-x   5 james  staff     160  4 17 20:40 \u001b[34mcategory_predictor\u001b[m\u001b[m\n",
      "-rw-r--r--   1 james  staff   80613  4 17 20:40 hykim_data_hadling.ipynb\n",
      "-rw-r--r--   1 james  staff    3676  4 17 20:40 json_to_csv_converter.py\n",
      "drwxr-xr-x   5 james  staff     160  4 17 20:40 \u001b[34mpositive_category_words\u001b[m\u001b[m\n",
      "drwxr-xr-x   5 james  staff     160  4 17 20:40 \u001b[34mreview_autopilot\u001b[m\u001b[m\n",
      "-rw-r--r--   1 james  staff     470  4 17 20:40 setup.py\n",
      "drwxr-xr-x   7 james  staff     224  4 17 20:40 \u001b[34mtest\u001b[m\u001b[m\n",
      "-rw-r--r--   1 james  staff     111  4 17 20:40 tox.ini\n",
      "drwx------@  8 james  staff     256  4  5 21:31 \u001b[34myelp_dataset\u001b[m\u001b[m\n",
      "-rw-r--r--   1 james  staff   10602  4 17 20:25 yelp_james_240405.ipynb\n",
      "-rw-r--r--   1 james  staff    9207  4 17 20:40 yelp_james_240412.ipynb\n",
      "-rw-r--r--   1 james  staff   15087  4 17 20:40 yelp_james_240413.ipynb\n",
      "-rw-r--r--   1 james  staff   10268  4 21 19:21 yelp_james_240421.ipynb\n"
     ]
    }
   ],
   "source": [
    "!ls -la"
   ]
  },
  {
   "cell_type": "code",
   "execution_count": 8,
   "id": "f3d5d0a5-cdcc-40cc-9e81-4d2b37715630",
   "metadata": {},
   "outputs": [
    {
     "data": {
      "text/plain": [
       "['yelp_dataset/yelp_academic_dataset_checkin.json',\n",
       " 'yelp_dataset/yelp_academic_dataset_tip.json',\n",
       " 'yelp_dataset/yelp_academic_dataset_review.json',\n",
       " 'yelp_dataset/yelp_academic_dataset_business.json',\n",
       " 'yelp_dataset/yelp_academic_dataset_user.json']"
      ]
     },
     "execution_count": 8,
     "metadata": {},
     "output_type": "execute_result"
    }
   ],
   "source": [
    "file_path = 'yelp_dataset'\n",
    "yelp_list = []\n",
    "\n",
    "for fname in glob.glob(os.path.join(file_path, '*.json')):\n",
    "    yelp_list.append(fname)\n",
    "\n",
    "yelp_list"
   ]
  },
  {
   "cell_type": "code",
   "execution_count": 13,
   "id": "483ec344-85f4-47da-bd90-a3a92f0cf532",
   "metadata": {},
   "outputs": [],
   "source": [
    "with open (yelp_list[4], \"r\") as f:\n",
    "    i = 0\n",
    "    for line in f:\n",
    "        if i <= 100000:\n",
    "            user = json.loads(line)\n",
    "            i += 1\n",
    "        else:\n",
    "            break\n"
   ]
  },
  {
   "cell_type": "code",
   "execution_count": 15,
   "id": "361ddae2-52dd-4cdc-b23c-1644d4ac6ff3",
   "metadata": {},
   "outputs": [
    {
     "data": {
      "text/plain": [
       "[]"
      ]
     },
     "execution_count": 15,
     "metadata": {},
     "output_type": "execute_result"
    }
   ],
   "source": [
    "fname = \"yelp_academic_dataset_tip.json\"\n",
    "\n",
    "with open()"
   ]
  },
  {
   "cell_type": "code",
   "execution_count": null,
   "id": "6d22b4eb-2db1-4d09-9dbe-f15ae6f1aeb4",
   "metadata": {},
   "outputs": [],
   "source": []
  }
 ],
 "metadata": {
  "kernelspec": {
   "display_name": "Python 3 (ipykernel)",
   "language": "python",
   "name": "python3"
  },
  "language_info": {
   "codemirror_mode": {
    "name": "ipython",
    "version": 3
   },
   "file_extension": ".py",
   "mimetype": "text/x-python",
   "name": "python",
   "nbconvert_exporter": "python",
   "pygments_lexer": "ipython3",
   "version": "3.12.2"
  }
 },
 "nbformat": 4,
 "nbformat_minor": 5
}
