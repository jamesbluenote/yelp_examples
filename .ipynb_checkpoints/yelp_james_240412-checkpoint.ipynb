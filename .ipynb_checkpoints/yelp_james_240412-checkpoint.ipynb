{
 "cells": [
  {
   "cell_type": "code",
   "execution_count": 1,
   "id": "ddcf2a32-e75b-4403-b450-4ee31328b613",
   "metadata": {},
   "outputs": [],
   "source": [
    "import pandas as pd\n",
    "import numpy as np\n",
    "import os\n",
    "import json\n",
    "import glob"
   ]
  },
  {
   "cell_type": "code",
   "execution_count": 2,
   "id": "2b25c05d-a283-4e1e-a354-dbaf7025d0be",
   "metadata": {},
   "outputs": [
    {
     "data": {
      "text/plain": [
       "'C:\\\\Users\\\\kiip\\\\Documents\\\\github\\\\yelp_examples'"
      ]
     },
     "execution_count": 2,
     "metadata": {},
     "output_type": "execute_result"
    }
   ],
   "source": [
    "os.getcwd()"
   ]
  },
  {
   "cell_type": "code",
   "execution_count": 4,
   "id": "4d64d1e6-8f4d-4222-9f93-4c59fc5b6400",
   "metadata": {},
   "outputs": [
    {
     "data": {
      "text/plain": [
       "'C:\\\\Users\\\\kiip\\\\Documents\\\\Data\\\\Yelp'"
      ]
     },
     "execution_count": 4,
     "metadata": {},
     "output_type": "execute_result"
    }
   ],
   "source": [
    "path = 'C:\\\\Users\\\\kiip\\\\Documents\\\\Data\\\\Yelp'\n",
    "os.chdir(path)\n",
    "os.getcwd()"
   ]
  },
  {
   "cell_type": "code",
   "execution_count": 8,
   "id": "86bf88d2-10f8-4f0d-aee8-e50bfeffe5b0",
   "metadata": {},
   "outputs": [
    {
     "data": {
      "text/plain": [
       "['Dataset_User_Agreement.pdf',\n",
       " 'yelp_academic_dataset_business.json',\n",
       " 'yelp_academic_dataset_checkin.json',\n",
       " 'yelp_academic_dataset_review.json',\n",
       " 'yelp_academic_dataset_tip.json',\n",
       " 'yelp_academic_dataset_user.json',\n",
       " 'yelp_dataset.tar']"
      ]
     },
     "execution_count": 8,
     "metadata": {},
     "output_type": "execute_result"
    }
   ],
   "source": [
    "os.listdir()"
   ]
  },
  {
   "cell_type": "code",
   "execution_count": 35,
   "id": "9583a48e-9ae5-470a-9fdf-2ea3714a8ccb",
   "metadata": {},
   "outputs": [
    {
     "data": {
      "text/plain": [
       "['yelp_academic_dataset_business.json',\n",
       " 'yelp_academic_dataset_checkin.json',\n",
       " 'yelp_academic_dataset_review.json',\n",
       " 'yelp_academic_dataset_tip.json',\n",
       " 'yelp_academic_dataset_user.json']"
      ]
     },
     "execution_count": 35,
     "metadata": {},
     "output_type": "execute_result"
    }
   ],
   "source": [
    "fnames = glob.glob('*.json')\n",
    "fnames"
   ]
  },
  {
   "cell_type": "code",
   "execution_count": 37,
   "id": "f2cfcd61-8bac-423b-922c-5674a9af6559",
   "metadata": {},
   "outputs": [],
   "source": [
    "df_biz = pd.read_json(fnames[0], encoding='utf-8', orient='records', lines=True)"
   ]
  },
  {
   "cell_type": "code",
   "execution_count": 39,
   "id": "b1269511-85cf-4c3f-ab91-747421fb3ad5",
   "metadata": {},
   "outputs": [],
   "source": [
    "df_check = pd.read_json(fnames[1], encoding='utf-8', orient='records', lines=True)"
   ]
  },
  {
   "cell_type": "code",
   "execution_count": 41,
   "id": "223d5a62-4da2-4c74-8e7e-6592ede158f5",
   "metadata": {},
   "outputs": [],
   "source": [
    "df_tip = pd.read_json(fnames[3], encoding='utf-8', orient='records', lines=True)"
   ]
  },
  {
   "cell_type": "code",
   "execution_count": 54,
   "id": "48de13c3-fee8-4b83-906d-19812e7d7c15",
   "metadata": {},
   "outputs": [],
   "source": [
    "size=100000\n",
    "df_review = pd.read_json(fnames[2], encoding='utf-8', orient='records', lines=True, chunksize=size)"
   ]
  },
  {
   "cell_type": "code",
   "execution_count": 55,
   "id": "ea56efdf-354d-4fcc-98db-67044b34bc58",
   "metadata": {},
   "outputs": [
    {
     "data": {
      "text/plain": [
       "<pandas.io.json._json.JsonReader at 0x1e199fd2c30>"
      ]
     },
     "execution_count": 55,
     "metadata": {},
     "output_type": "execute_result"
    }
   ],
   "source": [
    "df_review"
   ]
  },
  {
   "cell_type": "code",
   "execution_count": null,
   "id": "6136b945-7071-4cc9-9b86-ae252b616653",
   "metadata": {},
   "outputs": [],
   "source": []
  }
 ],
 "metadata": {
  "kernelspec": {
   "display_name": "Python 3 (ipykernel)",
   "language": "python",
   "name": "python3"
  },
  "language_info": {
   "codemirror_mode": {
    "name": "ipython",
    "version": 3
   },
   "file_extension": ".py",
   "mimetype": "text/x-python",
   "name": "python",
   "nbconvert_exporter": "python",
   "pygments_lexer": "ipython3",
   "version": "3.12.2"
  }
 },
 "nbformat": 4,
 "nbformat_minor": 5
}
